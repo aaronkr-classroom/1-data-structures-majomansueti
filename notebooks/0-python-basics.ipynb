{
 "cells": [
  {
   "cell_type": "markdown",
   "metadata": {},
   "source": [
    "# 0. Hello, Python! (Basic Data Types)\n",
    "\n",
    "This is a Python refresher notebook. It covers the basic data types in Python."
   ]
  },
  {
   "cell_type": "code",
   "execution_count": 1,
   "metadata": {},
   "outputs": [
    {
     "name": "stdout",
     "output_type": "stream",
     "text": [
      "Integer: 3\n"
     ]
    }
   ],
   "source": [
    "# --- Numeric Types ---\n",
    "# Integer\n",
    "num = 3\n",
    "print(f\"Integer: {num}\")\n"
   ]
  },
  {
   "cell_type": "code",
   "execution_count": 3,
   "metadata": {},
   "outputs": [
    {
     "name": "stdout",
     "output_type": "stream",
     "text": [
      "Float: 10.3333\n"
     ]
    }
   ],
   "source": [
    "# Float\n",
    "decimal = 10.3333\n",
    "print(f\"Float: {decimal}\")\n"
   ]
  },
  {
   "cell_type": "code",
   "execution_count": 4,
   "metadata": {},
   "outputs": [
    {
     "name": "stdout",
     "output_type": "stream",
     "text": [
      "Complex: (2+3j)\n"
     ]
    }
   ],
   "source": [
    "# Complex\n",
    "complex = 2 +3j\n",
    "print(f\"Complex: {complex}\")"
   ]
  },
  {
   "cell_type": "code",
   "execution_count": 8,
   "metadata": {},
   "outputs": [
    {
     "name": "stdout",
     "output_type": "stream",
     "text": [
      "Mixed arr first item: a\n",
      "['a', 10, 'School', False, [10, 5, 2, 1]]\n"
     ]
    }
   ],
   "source": [
    "# --- String and Character ---\n",
    "# String\n",
    "name = \"Maria\"\n",
    "\n",
    "# Character (In Python, a single character is just a string of length 1)\n",
    "char = \"a\"\n",
    "\n",
    "# --- Boolean ---\n",
    "# Boolean values\n",
    "t = True # 1\n",
    "f = False # 0\n",
    "\n",
    "# --- Arrays (Lists) ---\n",
    "# List\n",
    "array = [1,2,3,4,5,6,7,8,9,0]\n",
    "mixed_arr = ['a',10, \"School\", False]\n",
    "\n",
    "# Accessing list elements\n",
    "print(f\"Mixed arr first item: {mixed_arr[0]}\")\n",
    "\n",
    "# Adding to a list\n",
    "mixed_arr.append([10, 5, 2, 1])\n",
    "print(mixed_arr)\n",
    "\n"
   ]
  },
  {
   "cell_type": "code",
   "execution_count": 10,
   "metadata": {},
   "outputs": [
    {
     "name": "stdout",
     "output_type": "stream",
     "text": [
      "Hello, I'm Maria and my ID is 202310005.\n"
     ]
    }
   ],
   "source": [
    "# --- Objects (using classes) ---\n",
    "class Student:\n",
    "    def __init__(self, name, id):\n",
    "        self.name = name \n",
    "        self.id = id\n",
    "\n",
    "    def greet(self):\n",
    "        print(f\"Hello, I'm {self.name} and my ID is {self.id}.\")    \n",
    "\n",
    "# Create an object of the Person class\n",
    "s1 = Student(\"Maria\", 202310005)\n",
    "s1.greet()\n",
    "\n"
   ]
  },
  {
   "cell_type": "code",
   "execution_count": 1,
   "metadata": {},
   "outputs": [],
   "source": [
    "#NEW OBJECT - create food \n",
    "\n",
    "class Food:\n",
    "    def __init__(self, name):\n",
    "        self.name = name\n",
    "\n",
    "    def __init__(self, name = 'apple', color = 'red', size = 0, price = 0):\n",
    "        self.name = name \n",
    "        self.color = color\n",
    "        self.size =  size \n",
    "        self.price = price \n",
    "        self.quantity = 1\n",
    "\n",
    "    def printInfo(self):\n",
    "        if self.name == '':\n",
    "            print('I am nothing')\n",
    "        else: \n",
    "            print(\"I am a\", self.name)\n",
    "            \n"
   ]
  },
  {
   "cell_type": "code",
   "execution_count": 6,
   "metadata": {},
   "outputs": [],
   "source": [
    "#List of food\n",
    "f1 = Food()\n",
    "f2 = Food('banana')\n",
    "f3 = Food('orange', 'orange')\n",
    "f4 = Food('grape', size = 3)"
   ]
  },
  {
   "cell_type": "code",
   "execution_count": 7,
   "metadata": {},
   "outputs": [
    {
     "name": "stdout",
     "output_type": "stream",
     "text": [
      "I am a apple\n",
      "I am a banana\n",
      "I am a orange\n",
      "I am a grape\n"
     ]
    }
   ],
   "source": [
    "#Access the list of food \n",
    "\n",
    "f1.printInfo()\n",
    "f2.printInfo()\n",
    "f3.printInfo()\n",
    "f4.printInfo()\n",
    "\n"
   ]
  },
  {
   "cell_type": "code",
   "execution_count": null,
   "metadata": {},
   "outputs": [],
   "source": [
    "\n",
    "\n",
    "# --- Type Conversion ---\n",
    "# Convert integer to float\n",
    "\n",
    "\n",
    "# Convert float to integer (truncates the decimal part)\n",
    "\n",
    "\n",
    "# Convert boolean to integer\n",
    "\n",
    "\n",
    "# --- Type Checking ---\n"
   ]
  },
  {
   "cell_type": "markdown",
   "metadata": {},
   "source": [
    "# 3. Getting User Input\n",
    "\n",
    "Demonstrates how to interact with the user via input()."
   ]
  },
  {
   "cell_type": "code",
   "execution_count": 2,
   "metadata": {},
   "outputs": [
    {
     "name": "stdout",
     "output_type": "stream",
     "text": [
      "Hello maria!\n",
      "Next year, you will be 21!\n"
     ]
    }
   ],
   "source": [
    "# Getting user input and using it\n",
    "\n",
    "name = input(\"What is your name ? >>> \")\n",
    "print(\"Hello \" + name + \"!\")\n",
    "\n",
    "# Working with numbers\n",
    "\n",
    "age = input(\"How old you? >>>>\")\n",
    "print('Next year, you will be ' + str(int(age) +1) + \"!\")\n"
   ]
  },
  {
   "cell_type": "markdown",
   "metadata": {},
   "source": [
    "# 4. If Statements (Conditionals)\n",
    "\n",
    "Introduce the concept of decision-making using if, else, and elif."
   ]
  },
  {
   "cell_type": "code",
   "execution_count": 5,
   "metadata": {},
   "outputs": [
    {
     "name": "stdout",
     "output_type": "stream",
     "text": [
      "You are positive!\n",
      "You are odd!\n"
     ]
    }
   ],
   "source": [
    "# Basic if-else example\n",
    "number = int(input('Enter a number: >>> '))\n",
    "\n",
    "if number > 0:\n",
    "    print(\"You are positive!\")\n",
    "    if number % 2 == 0:\n",
    "        print(\"You are even!\")\n",
    "    else:\n",
    "        print(\"You are odd!\")\n",
    "else: \n",
    "    print(\"You are negative\")\n"
   ]
  },
  {
   "cell_type": "markdown",
   "metadata": {},
   "source": [
    "# 5. For Loop (Iteration)\n",
    "\n",
    "A basic introduction to loops with a for loop that repeats a certain number of times."
   ]
  },
  {
   "cell_type": "code",
   "execution_count": 9,
   "metadata": {},
   "outputs": [
    {
     "name": "stdout",
     "output_type": "stream",
     "text": [
      "0\n",
      "1\n",
      "2\n",
      "3\n",
      "4\n"
     ]
    }
   ],
   "source": [
    "# Basic for loop example\n",
    "for x in range(5): \n",
    "    print(x)"
   ]
  },
  {
   "cell_type": "code",
   "execution_count": 6,
   "metadata": {},
   "outputs": [
    {
     "name": "stdout",
     "output_type": "stream",
     "text": [
      "Loop interation 1\n",
      "Loop interation 2\n",
      "Loop interation 3\n",
      "Loop interation 4\n",
      "Loop interation 5\n"
     ]
    }
   ],
   "source": [
    "\n",
    "for x in range(5):\n",
    "    print(\"Loop interation\", x+1)"
   ]
  },
  {
   "cell_type": "code",
   "execution_count": 8,
   "metadata": {},
   "outputs": [
    {
     "name": "stdout",
     "output_type": "stream",
     "text": [
      "Loop interation 11\n",
      "Loop interation 12\n",
      "Loop interation 13\n",
      "Loop interation 14\n",
      "Loop interation 15\n",
      "Loop interation 16\n",
      "Loop interation 17\n",
      "Loop interation 18\n",
      "Loop interation 19\n",
      "Loop interation 20\n"
     ]
    }
   ],
   "source": [
    "for x in range(10, 20, 2):\n",
    "    print(\"Loop interation\", x+1)"
   ]
  },
  {
   "cell_type": "markdown",
   "metadata": {},
   "source": [
    "# 6. While Loop (Iteration with Condition)\n",
    "\n",
    "Demonstrates a loop that runs until a condition is met."
   ]
  },
  {
   "cell_type": "code",
   "execution_count": 10,
   "metadata": {},
   "outputs": [
    {
     "name": "stdout",
     "output_type": "stream",
     "text": [
      "Count:  1\n",
      "Count:  2\n",
      "Count:  3\n",
      "Count:  4\n",
      "Count:  5\n",
      "Count:  6\n",
      "Count:  7\n",
      "Count:  8\n",
      "Count:  9\n",
      "Count:  10\n",
      "Count:  11\n",
      "Count:  12\n"
     ]
    }
   ],
   "source": [
    "# Basic while loop example\n",
    "\n",
    "start = 1\n",
    "while start <=12: #end point (condition)\n",
    "    print (\"Count: \", start)\n",
    "    start += 1\n",
    "    "
   ]
  },
  {
   "cell_type": "markdown",
   "metadata": {},
   "source": [
    "# 7. Basic Function Example\n",
    "\n",
    "Introducing how to write and call functions."
   ]
  },
  {
   "cell_type": "code",
   "execution_count": null,
   "metadata": {},
   "outputs": [],
   "source": [
    "# Function to greet the user\n"
   ]
  },
  {
   "cell_type": "markdown",
   "metadata": {},
   "source": [
    "# 8. Simple Temperature Converter\n",
    "\n",
    "Combines input, conditionals, and functions in a real-world example."
   ]
  },
  {
   "cell_type": "code",
   "execution_count": null,
   "metadata": {},
   "outputs": [],
   "source": [
    "# Function to convert Celsius to Fahrenheit\n",
    "\n",
    "\n",
    "# Get temperature from user\n"
   ]
  },
  {
   "cell_type": "markdown",
   "metadata": {},
   "source": [
    "# 9. Simple Guessing Game\n",
    "\n",
    "A fun exercise that involves loops, conditionals, and randomness."
   ]
  },
  {
   "cell_type": "code",
   "execution_count": null,
   "metadata": {},
   "outputs": [],
   "source": [
    "\n",
    "# Generate a random number between 1 and 10\n",
    "\n",
    "\n",
    "# Keep asking the user until they guess correctly\n"
   ]
  },
  {
   "cell_type": "markdown",
   "metadata": {},
   "source": [
    "# 10. FizzBuzz (Classic Example)\n",
    "\n",
    "A popular coding challenge that helps beginners practice conditionals and loops.\n",
    "\n",
    "**Problem Statement:**\n",
    "\n",
    "Print numbers from 1 to n, where n is a positive integer. For each number:\n",
    "\n",
    "- Print \"Fizz\" if the number is divisible by 3.\n",
    "- Print \"Buzz\" if the number is divisible by 5.\n",
    "- Print \"FizzBuzz\" if the number is divisible by both 3 and 5.\n",
    "- Print the number itself if it is not divisible by either 3 or 5."
   ]
  },
  {
   "cell_type": "code",
   "execution_count": null,
   "metadata": {},
   "outputs": [],
   "source": [
    "# FizzBuzz example\n"
   ]
  },
  {
   "cell_type": "markdown",
   "metadata": {},
   "source": [
    "# Bonus: Recursive Fibonacci Function\n",
    "\n",
    "A more advanced example that demonstrates recursion."
   ]
  },
  {
   "cell_type": "code",
   "execution_count": null,
   "metadata": {},
   "outputs": [],
   "source": [
    "def fibonacci(n):\n",
    "    # Base cases\n",
    "\n",
    "        # Recursive case: F(n) = F(n-1) + F(n-2)\n",
    "        \n",
    "\n",
    "# Example usage\n"
   ]
  },
  {
   "cell_type": "code",
   "execution_count": null,
   "metadata": {},
   "outputs": [],
   "source": []
  }
 ],
 "metadata": {
  "kernelspec": {
   "display_name": "Python 3",
   "language": "python",
   "name": "python3"
  },
  "language_info": {
   "codemirror_mode": {
    "name": "ipython",
    "version": 3
   },
   "file_extension": ".py",
   "mimetype": "text/x-python",
   "name": "python",
   "nbconvert_exporter": "python",
   "pygments_lexer": "ipython3",
   "version": "3.12.1"
  }
 },
 "nbformat": 4,
 "nbformat_minor": 2
}
