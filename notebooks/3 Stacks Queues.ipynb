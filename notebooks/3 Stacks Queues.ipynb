{
  "nbformat": 4,
  "nbformat_minor": 0,
  "metadata": {
    "colab": {
      "provenance": []
    },
    "kernelspec": {
      "name": "python3",
      "display_name": "Python 3"
    },
    "language_info": {
      "name": "python"
    }
  },
  "cells": [
    {
      "cell_type": "markdown",
      "source": [
        "# Stacks with Arrays"
      ],
      "metadata": {
        "id": "-SBAAOpMFw1H"
      }
    },
    {
      "cell_type": "code",
      "execution_count": null,
      "metadata": {
        "id": "kQHSTqQCGghX"
      },
      "outputs": [],
      "source": [
        "class StackArr:\n",
        "    def __init__(self, size):\n",
        "        self.array_size = size\n",
        "        self.top = -1\n",
        "        self.array = [None] * size\n",
        "\n",
        "    def push(self, value):\n",
        "        # If stack is full, expand the size\n",
        "        if self.top == self.array_size - 1:\n",
        "            self.array_size *= 2\n",
        "            self.array.extend([None] * self.array_size)\n",
        "            print(\"Array expanded to size:\", self.array_size)\n",
        "\n",
        "        self.top += 1\n",
        "        self.array[self.top] = value\n",
        "\n",
        "    def pop(self):\n",
        "        if self.top == -1:\n",
        "            return None  # Stack is empty\n",
        "        value = self.array[self.top]\n",
        "        self.top -= 1\n",
        "        return value\n",
        "\n",
        "    def is_empty(self):\n",
        "        return self.top == -1\n",
        "\n",
        "    def peek(self):\n",
        "        if self.top == -1:\n",
        "            return None\n",
        "        return self.array[self.top]"
      ]
    },
    {
      "cell_type": "markdown",
      "source": [
        "## Reverse String with a Stack"
      ],
      "metadata": {
        "id": "XuIgbabCGANl"
      }
    },
    {
      "cell_type": "code",
      "source": [
        "def reverse_string(input_string):\n",
        "    # practice\n",
        "    stack = StackArr(len(input_string))\n",
        "    for char in input_string:\n",
        "        stack.push(char)\n",
        "\n",
        "    reversed_string = \"\"\n",
        "    while not stack.is_empty():\n",
        "        reversed_string += stack.pop()\n",
        "\n",
        "\n",
        "    return reversed_string"
      ],
      "metadata": {
        "id": "CcfXkkcMF_RO"
      },
      "execution_count": null,
      "outputs": []
    },
    {
      "cell_type": "code",
      "source": [
        "print(reverse_string(\"Tyson Vs. Paul was a money grab!\"))"
      ],
      "metadata": {
        "colab": {
          "base_uri": "https://localhost:8080/"
        },
        "id": "yoxtrnC0v-X1",
        "outputId": "73b09a47-a444-4ecf-c011-aec2421eebb9"
      },
      "execution_count": null,
      "outputs": [
        {
          "output_type": "stream",
          "name": "stdout",
          "text": [
            "!barg yenom a saw luaP .sV nosyT\n"
          ]
        }
      ]
    },
    {
      "cell_type": "markdown",
      "source": [
        "## Undo Feature in Text Editor"
      ],
      "metadata": {
        "id": "i3v-h_OvGSQ2"
      }
    },
    {
      "cell_type": "code",
      "source": [
        "def text_editor_simulation(commands):\n",
        "    # practice\n",
        "    text_stack = StackArr(10)\n",
        "    undo_stack = StackArr(10)\n",
        "\n",
        "    for command in commands:\n",
        "        if command.startswith(\"type\"):\n",
        "            char = command.split()[1]\n",
        "            text_stack.push(char)\n",
        "        elif command == \"undo\" or command == \"CTRL + Z\":\n",
        "            undo_stack.push(text_stack.pop())\n",
        "        elif command == \"redo\" or command == \"CTRL + Y\":\n",
        "            if not undo_stack.is_empty():\n",
        "                text_stack.push(undo_stack.pop())\n",
        "\n",
        "    final_text = \"\"\n",
        "    while not text_stack.is_empty():\n",
        "        final_text += text_stack.pop()\n",
        "\n",
        "    return final_text"
      ],
      "metadata": {
        "id": "iSc_6rQEGQm_"
      },
      "execution_count": null,
      "outputs": []
    },
    {
      "cell_type": "code",
      "source": [
        "commands = [\"type h\", \"type e\", \"type l\", \"type l\", \"type o\", \"undo\", \"undo\", \"redo\", \"undo\"]\n",
        "print(text_editor_simulation(commands))"
      ],
      "metadata": {
        "colab": {
          "base_uri": "https://localhost:8080/"
        },
        "id": "wHfCLftNzXHZ",
        "outputId": "a47e9606-0cc6-42cc-e592-ce1395e268f5"
      },
      "execution_count": null,
      "outputs": [
        {
          "output_type": "stream",
          "name": "stdout",
          "text": [
            "leh\n"
          ]
        }
      ]
    },
    {
      "cell_type": "markdown",
      "source": [
        "# Stacks with Linked Lists"
      ],
      "metadata": {
        "id": "D5A2W5BsF1VF"
      }
    },
    {
      "cell_type": "code",
      "source": [
        "class LinkedListNode:\n",
        "    def __init__(self, value):\n",
        "        self.value = value\n",
        "        self.next = None\n",
        "\n",
        "class StackLL:\n",
        "    def __init__(self):\n",
        "        self.head = None\n",
        "\n",
        "    def push(self, value):\n",
        "        new_node = LinkedListNode(value)\n",
        "        new_node.next = self.head\n",
        "        self.head = new_node\n",
        "\n",
        "    def pop(self):\n",
        "        if self.head is None:\n",
        "            return None  # Stack is empty\n",
        "        value = self.head.value\n",
        "        self.head = self.head.next\n",
        "        return value\n",
        "\n",
        "    def is_empty(self):\n",
        "        return self.head is None\n",
        "\n",
        "    def peek(self):\n",
        "        if self.head is None:\n",
        "            return None\n",
        "        return self.head.value"
      ],
      "metadata": {
        "id": "8FD52-A-FuXr"
      },
      "execution_count": null,
      "outputs": []
    },
    {
      "cell_type": "markdown",
      "source": [
        "## Check for Balanced Parentheses"
      ],
      "metadata": {
        "id": "SRIuvVphHbnI"
      }
    },
    {
      "cell_type": "code",
      "source": [
        "def is_balanced(expression):\n",
        "    # practice\n",
        "    stack = StackLL()\n",
        "    matching_brackets = {\n",
        "        ')': '(',\n",
        "        '}': \"{\",\n",
        "        ']': '[',\n",
        "    }\n",
        "    for char in expression:\n",
        "        if char in ['(', '{', '[']:\n",
        "            stack.push(char)\n",
        "        elif char in [')', '}', ']']:\n",
        "            top_element = stack.pop()\n",
        "            if top_element is None or top_element != matching_brackets[char]:\n",
        "                return False\n",
        "\n",
        "    return stack.is_empty()"
      ],
      "metadata": {
        "id": "wnq8TneTF7en"
      },
      "execution_count": null,
      "outputs": []
    },
    {
      "cell_type": "code",
      "source": [
        "print(is_balanced(\"(Hello{nice[to(meet)you]})\"))\n",
        "print(is_balanced(\"(Hello{nice[to(meet)you])\"))\n"
      ],
      "metadata": {
        "colab": {
          "base_uri": "https://localhost:8080/"
        },
        "id": "03NoBfAo5NqV",
        "outputId": "3ca3493b-9bcf-41b2-b0c3-134354aa29e0"
      },
      "execution_count": null,
      "outputs": [
        {
          "output_type": "stream",
          "name": "stdout",
          "text": [
            "True\n",
            "False\n"
          ]
        }
      ]
    },
    {
      "cell_type": "markdown",
      "source": [
        "## Browser Navigation"
      ],
      "metadata": {
        "id": "Qv5QgKWiHkbQ"
      }
    },
    {
      "cell_type": "code",
      "source": [
        "def browser_navigation(urls):\n",
        "    # practice\n",
        "    back_stack = StackLL()\n",
        "    forward_stack = StackLL()\n",
        "    current_page = None\n",
        "\n",
        "    for action in urls:\n",
        "      if action.startswith(\"visit \"):\n",
        "        if current_page:\n",
        "          back_stack.push(current_page)\n",
        "        current_page = action.split()[1]\n",
        "def browser_navigation(urls):\n",
        "    # practice\n",
        "    back_stack = StackLL()\n",
        "    forward_stack = StackLL()\n",
        "    current_page = None\n",
        "\n",
        "    for action in urls:\n",
        "      if action.startswith(\"visit \"):\n",
        "        if current_page:\n",
        "          back_stack.push(current_page)\n",
        "        current_page = action.split()[1]\n",
        "        while not forward_stack.is_empty():\n",
        "          forward_stack.pop()\n",
        "      elif action == \"back\" and not back_stack.is_empty():\n",
        "          forward_stack.push(current_page)\n",
        "          current_page = back_stack.pop()\n",
        "      elif action == \"forward\" and not forward_stack.is_empty():\n",
        "          back_stack.push(current_page)\n",
        "          current_page = forward_stack.pop()\n",
        "\n",
        "      print(\"Current pages: \", current_page)\n",
        "def browser_navigation(urls):\n",
        "    # practice\n",
        "    back_stack = StackLL()\n",
        "    forward_stack = StackLL()\n",
        "    current_page = None\n",
        "\n",
        "    for action in urls:\n",
        "        if action.startswith(\"visit \"):\n",
        "            if current_page:\n",
        "                back_stack.push(current_page)\n",
        "            current_page = action.split()[1]\n",
        "            while not forward_stack.is_empty():\n",
        "                forward_stack.pop()\n",
        "        elif action == \"back\" and not back_stack.is_empty():\n",
        "            forward_stack.push(current_page)\n",
        "            current_page = back_stack.pop()\n",
        "        elif action == \"forward\" and not forward_stack.is_empty():\n",
        "            back_stack.push(current_page)\n",
        "            current_page = forward_stack.pop()\n",
        "\n",
        "        print(\"Current page:\", current_page)\n"
      ],
      "metadata": {
        "id": "WfA_MKK9HfeX"
      },
      "execution_count": null,
      "outputs": []
    },
    {
      "cell_type": "code",
      "source": [
        "commands = [\n",
        "    \"visit google.com\",\n",
        "    \"visit facebook.com\",\n",
        "    \"back\",\n",
        "    \"back\",\n",
        "    \"forward\",\n",
        "    \"visit amazon.com\",\n",
        "    \"back\"\n",
        "]\n",
        "browser_navigation(commands)"
      ],
      "metadata": {
        "colab": {
          "base_uri": "https://localhost:8080/"
        },
        "id": "ilQ0YDhF8hhp",
        "outputId": "4df8840a-bbf5-4af8-ea8f-585f7b0c52df"
      },
      "execution_count": null,
      "outputs": [
        {
          "output_type": "stream",
          "name": "stdout",
          "text": [
            "Current page: google.com\n",
            "Current page: facebook.com\n",
            "Current page: google.com\n",
            "Current page: google.com\n",
            "Current page: facebook.com\n",
            "Current page: amazon.com\n",
            "Current page: facebook.com\n"
          ]
        }
      ]
    },
    {
      "cell_type": "markdown",
      "source": [
        "## Explanation\n",
        "\n",
        "1. **Array-based Stack:**\n",
        "  - Uses a list with dynamic resizing (`self.array.extend()`).\n",
        "  - Offers `push()`, `pop()`, `is_empty()`, and `peek()` methods.\n",
        "2. **Linked List-based Stack:**\n",
        "  - Implements stack using `LinkedListNode` to manage nodes.\n",
        "  - No need to resize, as memory is allocated dynamically.\n",
        "3. **Examples:**\n",
        "  - **Reversing a String:** Uses a stack to reverse characters.\n",
        "  - **Balanced Parentheses:** Checks matching brackets using a stack.\n",
        "  - **Text Editor Undo/Redo:** Manages typing and undo/redo commands.\n",
        "  - **Browser Navigation:** Mimics a web browser back/forward navigation.\n",
        "\n",
        "Feel free to try out and modify these examples!"
      ],
      "metadata": {
        "id": "HoXsbKgKMSxv"
      }
    },
    {
      "cell_type": "markdown",
      "source": [
        "---\n",
        "# Queues"
      ],
      "metadata": {
        "id": "qONjyAfIHurA"
      }
    },
    {
      "cell_type": "code",
      "source": [
        "class LinkedListNode:\n",
        "    def __init__(self, value):\n",
        "        self.value = value\n",
        "        self.next = None\n",
        "\n",
        "class Queue:\n",
        "    def __init__(self):\n",
        "        self.front = None\n",
        "        self.back = None\n",
        "\n",
        "    def enqueue(self, value):\n",
        "        new_node = LinkedListNode(value)\n",
        "        if self.back is None:  # Queue is empty\n",
        "            self.front = new_node\n",
        "            self.back = new_node\n",
        "        else:\n",
        "            self.back.next = new_node\n",
        "            self.back = new_node\n",
        "\n",
        "    def dequeue(self):\n",
        "        if self.front is None:  # Queue is empty\n",
        "            return None\n",
        "        value = self.front.value\n",
        "        self.front = self.front.next\n",
        "        if self.front is None:  # If queue becomes empty\n",
        "            self.back = None\n",
        "        return value\n",
        "\n",
        "    def is_empty(self):\n",
        "        return self.front is None\n",
        "\n",
        "    def peek(self):\n",
        "        if self.front is None:\n",
        "            return None\n",
        "        return self.front.value"
      ],
      "metadata": {
        "id": "V-olBGhzHnKX"
      },
      "execution_count": null,
      "outputs": []
    },
    {
      "cell_type": "markdown",
      "source": [
        "## Simulate a Ticket Counter"
      ],
      "metadata": {
        "id": "MzjUFq4iH0fP"
      }
    },
    {
      "cell_type": "code",
      "source": [
        "def simulate_coffee_counter(customers):\n",
        "    # practice\n",
        "    q = Queue()\n",
        "    for customer in customers:\n",
        "        q.enqueue(customer)\n",
        "\n",
        "    print(\"Serving all customers\")\n",
        "    while not q.is_empty():\n",
        "        print(\"Serving: \", q.dequeue())"
      ],
      "metadata": {
        "id": "sIE5spn3HyuV"
      },
      "execution_count": null,
      "outputs": []
    },
    {
      "cell_type": "code",
      "source": [
        "simulate_coffee_counter([\"A\", \"B\", \"C\", \"D\", \"E\", \"F\"])"
      ],
      "metadata": {
        "colab": {
          "base_uri": "https://localhost:8080/"
        },
        "id": "SFAcpMWO-VcW",
        "outputId": "250e18ad-2ea7-45d9-8514-8b27fb122e5f"
      },
      "execution_count": null,
      "outputs": [
        {
          "output_type": "stream",
          "name": "stdout",
          "text": [
            "Serving all customers\n",
            "Serving:  A\n",
            "Serving:  B\n",
            "Serving:  C\n",
            "Serving:  D\n",
            "Serving:  E\n",
            "Serving:  F\n"
          ]
        }
      ]
    },
    {
      "cell_type": "markdown",
      "source": [
        "## Hot Potato Game (Circle Elimination)"
      ],
      "metadata": {
        "id": "CJD5Gq4KH5jR"
      }
    },
    {
      "cell_type": "code",
      "source": [
        "def hot_potato(players, rounds):\n",
        "    #practice"
      ],
      "metadata": {
        "id": "jGwYMtt8H3Hi"
      },
      "execution_count": null,
      "outputs": []
    },
    {
      "cell_type": "markdown",
      "source": [
        "## Printer Job Queue Sim"
      ],
      "metadata": {
        "id": "MoyXEhZDIArA"
      }
    },
    {
      "cell_type": "code",
      "source": [
        "def printer_job_queue(jobs):\n",
        "    # practice"
      ],
      "metadata": {
        "id": "RIwxVS7FH95T"
      },
      "execution_count": null,
      "outputs": []
    },
    {
      "cell_type": "markdown",
      "source": [
        "## Customer Service Help Desk"
      ],
      "metadata": {
        "id": "zALlREviIGQ5"
      }
    },
    {
      "cell_type": "code",
      "source": [
        "class HelpDesk:\n",
        "    # practice"
      ],
      "metadata": {
        "id": "TOsozUSQIDSc"
      },
      "execution_count": null,
      "outputs": []
    },
    {
      "cell_type": "markdown",
      "source": [
        "## Call Center"
      ],
      "metadata": {
        "id": "CX7KOfKNIK3x"
      }
    },
    {
      "cell_type": "code",
      "source": [
        "import random\n",
        "import time\n",
        "\n",
        "def call_center_simulation(calls):\n",
        "    # practice"
      ],
      "metadata": {
        "id": "bYNgfJ6LIIXP"
      },
      "execution_count": null,
      "outputs": []
    },
    {
      "cell_type": "markdown",
      "source": [
        "## Explanation\n",
        "\n",
        "1. **Queue Implementation:**\n",
        "  - Uses a linked list with front pointing to the first element and back pointing to the last.\n",
        "  - `enqueue()`: Adds a new element to the back of the queue.\n",
        "  - `dequeue()`: Removes and returns the element from the front.\n",
        "  - `is_empty()`: Checks if the queue is empty.\n",
        "  - `peek()`: Returns the front element without removing it.\n",
        "2. **Examples:**\n",
        "  - **Ticket Counter:** Serves customers in the order they arrive.\n",
        "  - **Hot Potato Game:** Eliminates players in a circular manner until one remains.\n",
        "  - **Printer Job Queue:** Simulates jobs being processed in the order they are added.\n",
        "  - **Help Desk Queue:** Handles customer service requests.\n",
        "  - **Call Center:** Simulates a call center handling incoming calls.\n",
        "\n",
        "These scenarios illustrate real-world applications of queues, showing how they manage tasks in a \"first-in, first-out\" (FIFO) manner."
      ],
      "metadata": {
        "id": "hFuEqrpqMqSe"
      }
    },
    {
      "cell_type": "code",
      "source": [],
      "metadata": {
        "id": "CYlqlWKgIMtj"
      },
      "execution_count": null,
      "outputs": []
    }
  ]
}